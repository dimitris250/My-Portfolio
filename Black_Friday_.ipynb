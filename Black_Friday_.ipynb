{
 "cells": [
  {
   "cell_type": "code",
   "execution_count": 1,
   "metadata": {
    "collapsed": true
   },
   "outputs": [],
   "source": [
    "import matplotlib.pyplot as plt\n",
    "import pandas as pd\n",
    "import seaborn as sns\n",
    "import numpy as np\n",
    "from sklearn.model_selection import train_test_split\n",
    "import xgboost as xgb\n",
    "from sklearn.metrics import mean_absolute_error\n",
    "from sklearn.metrics import mean_squared_error\n",
    "from sklearn import preprocessing\n",
    "from sklearn.linear_model import LinearRegression"
   ]
  },
  {
   "cell_type": "code",
   "execution_count": 2,
   "metadata": {
    "collapsed": true
   },
   "outputs": [],
   "source": [
    "#read the black friday data\n",
    "df_train = pd.read_csv(r'C:\\Users\\Dimitrid\\Desktop\\Black_Friday_train.csv')"
   ]
  },
  {
   "cell_type": "code",
   "execution_count": 3,
   "metadata": {
    "collapsed": false
   },
   "outputs": [
    {
     "name": "stdout",
     "output_type": "stream",
     "text": [
      "User_ID : 0\n",
      "Product_ID : 0\n",
      "Gender : 0\n",
      "Age : 0\n",
      "Occupation : 0\n",
      "City_Category : 0\n",
      "Stay_In_Current_City_Years : 0\n",
      "Marital_Status : 0\n",
      "Product_Category_1 : 0\n",
      "Product_Category_2 : 173638\n",
      "Product_Category_3 : 383247\n",
      "Purchase : 0\n"
     ]
    }
   ],
   "source": [
    "#shows the unique values for each column of the dataframe\n",
    "for i in df_train.columns:\n",
    "    print(i, ':', df_train[i].isnull().sum())"
   ]
  },
  {
   "cell_type": "code",
   "execution_count": 4,
   "metadata": {
    "collapsed": false
   },
   "outputs": [
    {
     "data": {
      "text/plain": [
       "M    414259\n",
       "F    135809\n",
       "Name: Gender, dtype: int64"
      ]
     },
     "execution_count": 4,
     "metadata": {},
     "output_type": "execute_result"
    }
   ],
   "source": [
    "# Counts the purchases per gender    \n",
    "df_train['Gender'].value_counts()"
   ]
  },
  {
   "cell_type": "code",
   "execution_count": 5,
   "metadata": {
    "collapsed": false
   },
   "outputs": [
    {
     "data": {
      "text/plain": [
       "26-35    219587\n",
       "36-45    110013\n",
       "18-25     99660\n",
       "46-50     45701\n",
       "51-55     38501\n",
       "55+       21504\n",
       "0-17      15102\n",
       "Name: Age, dtype: int64"
      ]
     },
     "execution_count": 5,
     "metadata": {},
     "output_type": "execute_result"
    }
   ],
   "source": [
    "# Counts the values per age group\n",
    "df_train['Age'].value_counts()"
   ]
  },
  {
   "cell_type": "code",
   "execution_count": 6,
   "metadata": {
    "collapsed": false
   },
   "outputs": [
    {
     "data": {
      "text/plain": [
       "B    231173\n",
       "C    171175\n",
       "A    147720\n",
       "Name: City_Category, dtype: int64"
      ]
     },
     "execution_count": 6,
     "metadata": {},
     "output_type": "execute_result"
    }
   ],
   "source": [
    "# Counts the purchases per city category\n",
    "df_train['City_Category'].value_counts()"
   ]
  },
  {
   "cell_type": "code",
   "execution_count": 7,
   "metadata": {
    "collapsed": false
   },
   "outputs": [
    {
     "data": {
      "image/png": "[encoded data removed]",
      "text/plain": [
       "<Figure size 432x288 with 1 Axes>"
      ]
     },
     "metadata": {},
     "output_type": "display_data"
    }
   ],
   "source": [
    "#plots the purchases per gender    \n",
    "plt.figure()\n",
    "gender_plot=sns.countplot(df_train['Gender'])\n",
    "plt.show()"
   ]
  },
  {
   "cell_type": "code",
   "execution_count": null,
   "metadata": {
    "collapsed": true
   },
   "outputs": [],
   "source": [
    "# Plots the purchase by age group and splits it between gender\n",
    "plt.figure()\n",
    "sns.countplot(df_train['Age'], hue=df_train['Gender'])\n",
    "plt.show()"
   ]
  },
  {
   "cell_type": "code",
   "execution_count": null,
   "metadata": {
    "collapsed": true
   },
   "outputs": [],
   "source": [
    "# drops the product category 3 since it has a lot of missing values and might skew the results\n",
    "df_train = df_train.drop(['Product_Category_3'], axis=1)"
   ]
  },
  {
   "cell_type": "code",
   "execution_count": null,
   "metadata": {
    "collapsed": true
   },
   "outputs": [],
   "source": [
    "# fills the blanks or nans for the product category 2 based on ratio of existing values so we do not have to ommit so many data\n",
    "df_train['Product_Category_2'].fillna(pd.Series(np.random.choice(['8','14','2','16','15','5','4'],p=[0.3,0.2,0.15,0.1,0.1,0.1,0.05],size=len(df_train))),inplace=True)"
   ]
  },
  {
   "cell_type": "code",
   "execution_count": null,
   "metadata": {
    "collapsed": true
   },
   "outputs": [],
   "source": [
    "df_train['Product_Category_2']=df_train['Product_Category_2'].astype(np.int64)"
   ]
  },
  {
   "cell_type": "code",
   "execution_count": null,
   "metadata": {
    "collapsed": true
   },
   "outputs": [],
   "source": [
    "# drops the columns since for this prediction User ID and product ID are not important to determine the amount purchased\n",
    "df_train = df_train.drop(['User_ID','Product_ID'], axis=1)"
   ]
  },
  {
   "cell_type": "code",
   "execution_count": null,
   "metadata": {
    "collapsed": true
   },
   "outputs": [],
   "source": [
    "# vectorizes the categorical values of the dataframe in order to be used for the regression prediction\n",
    "df_train['Gender']=df_train['Gender'].map({'F':1,'M':0})\n",
    "df_train['Gender'].reset_index()\n",
    "\n",
    "df_train['Age']=df_train['Age'].map({'0-17':0,'18-25':4,'26-35':6,'36-45':5,'46-50':3,'51-55':2,'55+':1})\n",
    "df_train['Age'].reset_index()\n",
    "\n",
    "df_train['City_Category']=df_train['City_Category'].map({'A':0,'B':2,'C':1})\n",
    "df_train['City_Category'].reset_index()\n",
    "\n",
    "df_train['Stay_In_Current_City_Years']=df_train['Stay_In_Current_City_Years'].map({'0':0,'1':1,'2':2,'3':3,'4+':4})\n",
    "df_train['Stay_In_Current_City_Years'].reset_index()\n",
    "\n",
    "plt.figure()\n",
    "sns.distplot(df_train['Purchase'])\n",
    "plt.xlabel('Purchase Amount')\n",
    "plt.title('Distribution of Purchase Amount')\n",
    "plt.tight_layout()\n",
    "plt.show()\n",
    "\n",
    "df_train['Purchase'] = np.log(df_train['Purchase'])\n",
    "\n",
    "plt.figure()\n",
    "sns.distplot(df_train['Purchase'])\n",
    "plt.xlabel('Purchase Amount')\n",
    "plt.title('Distribution of Purchase Amount')\n",
    "plt.tight_layout()\n",
    "plt.show()\n",
    "\n",
    "X=df_train.drop(columns=['Purchase','Product_Category_2'])"
   ]
  },
  {
   "cell_type": "code",
   "execution_count": null,
   "metadata": {
    "collapsed": true
   },
   "outputs": [],
   "source": [
    "# Split train and test datasets\n",
    "X_train, X_test, y_train, y_test = train_test_split(X,y, test_size=0.3,random_state=42)"
   ]
  },
  {
   "cell_type": "code",
   "execution_count": null,
   "metadata": {
    "collapsed": true
   },
   "outputs": [],
   "source": [
    "regr=LinearRegression()\n",
    "\n",
    "regr.fit(X_train,y_train)\n",
    "\n",
    "regr.score(X,y)\n",
    "\n",
    "predictions=regr.predict(X_test)"
   ]
  },
  {
   "cell_type": "code",
   "execution_count": null,
   "metadata": {
    "collapsed": true
   },
   "outputs": [],
   "source": [
    "mae=mean_absolute_error(y_test,predictions)\n",
    "mse= mean_squared_error(y_test,predictions)\n",
    "print(\"MAE: %f\" % (mae))\n",
    "print(\"MSE: %f\" % (mse))"
   ]
  }
 ],
 "metadata": {
  "anaconda-cloud": {},
  "kernelspec": {
   "display_name": "Python [default]",
   "language": "python",
   "name": "python3"
  },
  "language_info": {
   "codemirror_mode": {
    "name": "ipython",
    "version": 3
   },
   "file_extension": ".py",
   "mimetype": "text/x-python",
   "name": "python",
   "nbconvert_exporter": "python",
   "pygments_lexer": "ipython3",
   "version": "3.5.6"
  }
 },
 "nbformat": 4,
 "nbformat_minor": 1
}
